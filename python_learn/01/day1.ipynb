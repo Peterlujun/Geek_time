{
 "cells": [
  {
   "attachments": {},
   "cell_type": "markdown",
   "metadata": {},
   "source": [
    "字典\n",
    "====\n",
    "字典是一系列由键（key）和值（value）配对组成的元素的集合\n",
    "相比于列表和元组，字典的性能更优，特别是对于查找、添加和删除操作，字典都能在常数时间复杂度内完成。\n",
    "#集合和字典的区别\n",
    "集合和字典基本相同，唯一的区别，就是集合没有键和值的配对，是一系列无序的、唯一的元素组合。"
   ]
  },
  {
   "cell_type": "code",
   "execution_count": 1,
   "metadata": {},
   "outputs": [
    {
     "data": {
      "text/plain": [
       "True"
      ]
     },
     "execution_count": 1,
     "metadata": {},
     "output_type": "execute_result"
    }
   ],
   "source": [
    "d1 = {'name': 'jason', 'age': 20, 'gender': 'male'}\n",
    "d2 = dict({'name': 'jason', 'age': 20, 'gender': 'male'})\n",
    "d3 = dict([('name', 'jason'), ('age', 20), ('gender', 'male')])\n",
    "d4 = dict(name='jason', age=20, gender='male') \n",
    "d1 == d2 == d3 ==d4"
   ]
  },
  {
   "cell_type": "code",
   "execution_count": 2,
   "metadata": {},
   "outputs": [
    {
     "data": {
      "text/plain": [
       "{1, 50, 'hello'}"
      ]
     },
     "execution_count": 2,
     "metadata": {},
     "output_type": "execute_result"
    }
   ],
   "source": [
    "s = {1,'hello',50}\n",
    "s"
   ]
  },
  {
   "cell_type": "code",
   "execution_count": 7,
   "metadata": {},
   "outputs": [
    {
     "data": {
      "text/plain": [
       "'null'"
      ]
     },
     "execution_count": 7,
     "metadata": {},
     "output_type": "execute_result"
    }
   ],
   "source": [
    "d = {'name': 'jason', 'age': 20}\n",
    "d['name']\n",
    "d.get('name')\n",
    "d.get('location','null')"
   ]
  },
  {
   "attachments": {},
   "cell_type": "markdown",
   "metadata": {},
   "source": [
    "集合并不支持索引操作，因为集合本质上是一个哈希表，和列表不一样"
   ]
  },
  {
   "cell_type": "code",
   "execution_count": 9,
   "metadata": {},
   "outputs": [
    {
     "ename": "TypeError",
     "evalue": "'set' object is not subscriptable",
     "output_type": "error",
     "traceback": [
      "\u001b[1;31m---------------------------------------------------------------------------\u001b[0m",
      "\u001b[1;31mTypeError\u001b[0m                                 Traceback (most recent call last)",
      "Cell \u001b[1;32mIn[9], line 2\u001b[0m\n\u001b[0;32m      1\u001b[0m s \u001b[39m=\u001b[39m {\u001b[39m1\u001b[39m,\u001b[39m2\u001b[39m,\u001b[39m3\u001b[39m,\u001b[39m4\u001b[39m}\n\u001b[1;32m----> 2\u001b[0m s[\u001b[39m1\u001b[39;49m]\n",
      "\u001b[1;31mTypeError\u001b[0m: 'set' object is not subscriptable"
     ]
    }
   ],
   "source": [
    "s = {1,2,3,4}\n",
    "s[1]"
   ]
  },
  {
   "attachments": {},
   "cell_type": "markdown",
   "metadata": {},
   "source": [
    "判断一个元素在不在字典或集合内，可以用 value in dict/set 来判断。"
   ]
  },
  {
   "cell_type": "code",
   "execution_count": 11,
   "metadata": {},
   "outputs": [
    {
     "data": {
      "text/plain": [
       "True"
      ]
     },
     "execution_count": 11,
     "metadata": {},
     "output_type": "execute_result"
    }
   ],
   "source": [
    "s = {1,2,3}\n",
    "1 in s\n",
    "10 in s"
   ]
  },
  {
   "cell_type": "code",
   "execution_count": 16,
   "metadata": {},
   "outputs": [
    {
     "data": {
      "text/plain": [
       "False"
      ]
     },
     "execution_count": 16,
     "metadata": {},
     "output_type": "execute_result"
    }
   ],
   "source": [
    "d = {'name':'jason','age':20}\n",
    "'name' in d\n",
    "'jason' in d\n",
    "'age' in d\n",
    "20 in d"
   ]
  },
  {
   "attachments": {},
   "cell_type": "markdown",
   "metadata": {},
   "source": [
    "除了创建和访问，字典和集合也同样支持增加、删除、更新等操作"
   ]
  },
  {
   "cell_type": "code",
   "execution_count": 22,
   "metadata": {},
   "outputs": [
    {
     "data": {
      "text/plain": [
       "{1, 3, 4}"
      ]
     },
     "execution_count": 22,
     "metadata": {},
     "output_type": "execute_result"
    }
   ],
   "source": [
    "d = {'name':'jason','age': 20}\n",
    "d['gender'] = 'male'\n",
    "d['dob'] = '1999-02-01'\n",
    "d['dob'] = '1996-09-09'\n",
    "d.pop('dob')\n",
    "d\n",
    "\n",
    "\n",
    "s = {1,2,3}\n",
    "s.add(4)\n",
    "s\n",
    "s.remove(2)\n",
    "s"
   ]
  },
  {
   "cell_type": "code",
   "execution_count": 26,
   "metadata": {},
   "outputs": [
    {
     "data": {
      "text/plain": [
       "[('b', 1), ('a', 2), ('c', 10)]"
      ]
     },
     "execution_count": 26,
     "metadata": {},
     "output_type": "execute_result"
    }
   ],
   "source": [
    "d = {'b':1,'a':2,'c':10}\n",
    "d_sorted_by_key = sorted(d.items(), key=lambda x:x[0])    # 根据字典键的升序排序\n",
    "d_sorted_by_value = sorted(d.items(),key=lambda x : x[1]) # 根据字典值的升序排序\n",
    "d_sorted_by_key\n",
    "d_sorted_by_value"
   ]
  },
  {
   "attachments": {},
   "cell_type": "markdown",
   "metadata": {},
   "source": [
    "列表中的每个元素，是由原字典的键和值组成的元组。"
   ]
  },
  {
   "cell_type": "code",
   "execution_count": 28,
   "metadata": {},
   "outputs": [
    {
     "data": {
      "text/plain": [
       "[1, 2, 3, 4]"
      ]
     },
     "execution_count": 28,
     "metadata": {},
     "output_type": "execute_result"
    }
   ],
   "source": [
    "s = {3,4,1,2}\n",
    "sorted(s)"
   ]
  },
  {
   "attachments": {},
   "cell_type": "markdown",
   "metadata": {},
   "source": [
    "字典和集合性能\n",
    "======================\n",
    "字典和集合是进行过性能高度优化的数据结构，特别是对于查找、添加和删除操作。\n",
    "\n",
    "那接下来看看，它们在具体场景下的性能表现，以及与列表等其他数据结构的对比。"
   ]
  },
  {
   "attachments": {},
   "cell_type": "markdown",
   "metadata": {},
   "source": [
    "比如电商企业的后台，存储了每件产品的 ID、名称和价格。现在的需求是，给定某件商品的 ID，我们要找出其价格。\n",
    "\n",
    "用列表来存储这些数据结构，并进行查找，相应的代码如下："
   ]
  },
  {
   "cell_type": "code",
   "execution_count": 30,
   "metadata": {},
   "outputs": [
    {
     "name": "stdout",
     "output_type": "stream",
     "text": [
      "The price of product 432314553 is 30\n"
     ]
    }
   ],
   "source": [
    "def find_product_price(products, product_id):\n",
    "    for id, price in products:\n",
    "        if id == product_id:\n",
    "            return price\n",
    "    return None \n",
    "     \n",
    "products = [\n",
    "    (143121312, 100), \n",
    "    (432314553, 30),\n",
    "    (32421912367, 150) \n",
    "]\n",
    "print('The price of product 432314553 is {}'.format(find_product_price(products, 432314553)))"
   ]
  },
  {
   "attachments": {},
   "cell_type": "markdown",
   "metadata": {},
   "source": [
    "要找出这些商品有多少种不同的价格。我们还用同样的方法来比较一下。"
   ]
  },
  {
   "cell_type": "code",
   "execution_count": 36,
   "metadata": {},
   "outputs": [
    {
     "name": "stdout",
     "output_type": "stream",
     "text": [
      "number of unique price is: 3\n"
     ]
    }
   ],
   "source": [
    "#first version\n",
    "def find_unique_price_using_list(products):\n",
    "    unique_price_list = []\n",
    "    for _,price in products: #A\n",
    "        if price not in unique_price_list:#B\n",
    "            unique_price_list.append(price)\n",
    "    return len(unique_price_list)\n",
    "\n",
    "\n",
    "products = [\n",
    "        (143121312, 100), \n",
    "        (432314553, 30),\n",
    "        (32421912367, 150),\n",
    "        (937153201, 30)\n",
    "]\n",
    "print('number of unique price is: {}'.format(find_unique_price_using_list(products)))"
   ]
  },
  {
   "cell_type": "code",
   "execution_count": 37,
   "metadata": {},
   "outputs": [
    {
     "name": "stdout",
     "output_type": "stream",
     "text": [
      "number of unique price is: 3\n"
     ]
    }
   ],
   "source": [
    "# set version\n",
    "def find_unique_price_using_set(products):\n",
    "    unique_price_set = set()\n",
    "    for _, price in products:\n",
    "        unique_price_set.add(price)\n",
    "    return len(unique_price_set)        \n",
    " \n",
    "products = [\n",
    "    (143121312, 100), \n",
    "    (432314553, 30),\n",
    "    (32421912367, 150),\n",
    "    (937153201, 30)\n",
    "]\n",
    "print('number of unique price is: {}'.format(find_unique_price_using_set(products)))\n"
   ]
  },
  {
   "attachments": {},
   "cell_type": "markdown",
   "metadata": {},
   "source": [
    "初始化了含有 100,000 个元素的产品，并分别计算了使用列表和集合来统计产品价格数量的运行时间："
   ]
  },
  {
   "cell_type": "code",
   "execution_count": null,
   "metadata": {},
   "outputs": [],
   "source": [
    "import time\n",
    "id = [x for x in range(0, 100000)]\n",
    "price = [x for x in range(200000, 300000)]\n",
    "products = list(zip(id, price))\n",
    " \n",
    "# 计算列表版本的时间\n",
    "start_using_list = time.perf_counter()\n",
    "find_unique_price_using_list(products)\n",
    "end_using_list = time.perf_counter()\n",
    "print(\"time elapse using list: {}\".format(end_using_list - start_using_list))\n",
    "\n",
    " \n",
    "# 计算集合版本的时间\n",
    "start_using_set = time.perf_counter()\n",
    "find_unique_price_using_set(products)\n",
    "end_using_set = time.perf_counter()\n",
    "print(\"time elapse using set: {}\".format(end_using_set - start_using_set))"
   ]
  },
  {
   "attachments": {},
   "cell_type": "markdown",
   "metadata": {},
   "source": [
    "字典和集合的工作原理\n",
    "===================\n",
    "对于字典而言，这张表存储了哈希值（hash）、键和值这 3 个元素。\n",
    "\n",
    "而对集合来说，区别就是哈希表内没有键和值的配对，只有单一的元素了。\n",
    "\n",
    "老版本 Python 的哈希表结构如下所示：\n",
    "--+-------------------------------+\n",
    "  | 哈希值 (hash)  键 (key)  值 (value)\n",
    "--+-------------------------------+\n",
    "0 |    hash0      key0    value0\n",
    "--+-------------------------------+\n",
    "1 |    hash1      key1    value1\n",
    "--+-------------------------------+\n",
    "2 |    hash2      key2    value2\n",
    "--+-------------------------------+\n",
    ". |           ...\n",
    "__+_______________________________+\n",
    "\n",
    "这样的设计结构显然非常浪费存储空间。为了提高存储空间的利用率，\n",
    "\n",
    "现在的哈希表除了字典本身的结构，会把索引和哈希值、键、值单独分开，也就是下面这样新的结构：\n",
    "Indices\n",
    "----------------------------------------------------\n",
    "None | index | None | None | index | None | index ...\n",
    "----------------------------------------------------\n",
    " \n",
    "Entries\n",
    "--------------------\n",
    "hash0   key0  value0\n",
    "---------------------\n",
    "hash1   key1  value1\n",
    "---------------------\n",
    "hash2   key2  value2\n",
    "---------------------\n",
    "        ...\n",
    "---------------------\n",
    "空间利用率得到很大的提高。\n",
    "\n",
    "几个操作的工作原理。\n",
    "==================\n",
    "\n",
    "##插入操作\n",
    "\n",
    "每次向字典或集合插入一个元素时，Python 会首先计算键的哈希值（hash(key)），再和 mask = PyDicMinSize - 1 做与操作，计算这个元素应该插入哈希表的位置 index = hash(key) & mask。如果哈希表中此位置是空的，那么这个元素就会被插入其中。\n",
    "\n",
    "而如果此位置已被占用，Python 便会比较两个元素的哈希值和键是否相等。\n",
    "\n",
    "若两者都相等，则表明这个元素已经存在，如果值不同，则更新值。\n",
    "\n",
    "若两者中有一个不相等，这种情况我们通常称为哈希冲突（hash collision），意思是两个元素的键不相等，但是哈希值相等。这种情况下，Python 便会继续寻找表中空余的位置，直到找到位置为止。\n",
    "\n",
    "值得一提的是，通常来说，遇到这种情况，最简单的方式是线性寻找，即从这个位置开始，挨个往后寻找空位。当然，Python 内部对此进行了优化（这一点无需深入了解，你有兴趣可以查看源码，我就不再赘述），让这个步骤更加高效。\n",
    "\n",
    "##查找操作\n",
    "和前面的插入操作类似，Python 会根据哈希值，找到其应该处于的位置；然后，比较哈希表这个位置中元素的哈希值和键，与需要查找的元素是否相等。如果相等，则直接返回；如果不等，则继续查找，直到找到空位或者抛出异常为止。\n",
    "\n",
    "\n",
    "##删除操作\n",
    "对于删除操作，Python 会暂时对这个位置的元素，赋于一个特殊的值，等到重新调整哈希表的大小时，再将其删除。\n",
    "\n",
    "不难理解，哈希冲突的发生，往往会降低字典和集合操作的速度。因此，为了保证其高效性，字典和集合内的哈希表，通常会保证其至少留有 1/3 的剩余空间。随着元素的不停插入，当剩余空间小于 1/3 时，Python 会重新获取更大的内存空间，扩充哈希表。不过，这种情况下，表内所有的元素位置都会被重新排放。\n",
    "\n",
    "虽然哈希冲突和哈希表大小的调整，都会导致速度减缓，但是这种情况发生的次数极少。所以，平均情况下，这仍能保证插入、查找和删除的时间复杂度为 O(1)。"
   ]
  }
 ],
 "metadata": {
  "kernelspec": {
   "display_name": "Python 3",
   "language": "python",
   "name": "python3"
  },
  "language_info": {
   "codemirror_mode": {
    "name": "ipython",
    "version": 3
   },
   "file_extension": ".py",
   "mimetype": "text/x-python",
   "name": "python",
   "nbconvert_exporter": "python",
   "pygments_lexer": "ipython3",
   "version": "3.9.2"
  },
  "orig_nbformat": 4
 },
 "nbformat": 4,
 "nbformat_minor": 2
}
